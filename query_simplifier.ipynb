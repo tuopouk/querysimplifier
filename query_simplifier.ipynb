{
 "cells": [
  {
   "cell_type": "code",
   "execution_count": 1,
   "metadata": {},
   "outputs": [
    {
     "data": {
      "text/plain": [
       "\"{'query': [{'code': 'Alue','selection': {'filter': 'agg:_Kunnat aakkosjärjestyksessä 2020.agg','values': ['SSS','KU049','KU091','KU564','KU837','KU853','KU092']}},{'code': 'Koulutusaste','selection': {'filter': 'item','values': ['SSS','7','8']}}],'response': {'format': 'json-stat'}}\""
      ]
     },
     "execution_count": 1,
     "metadata": {},
     "output_type": "execute_result"
    }
   ],
   "source": [
    "def simplify(query):\n",
    "    return query.replace('\"',\"'\").replace('\\n','').strip().replace('  ','')\n",
    "\n",
    "\n",
    "\n",
    "query = \"\"\"\n",
    "{\n",
    "  \"query\": [\n",
    "    {\n",
    "      \"code\": \"Alue\",\n",
    "      \"selection\": {\n",
    "        \"filter\": \"agg:_Kunnat aakkosjärjestyksessä 2020.agg\",\n",
    "        \"values\": [\n",
    "          \"SSS\",\n",
    "          \"KU049\",\n",
    "          \"KU091\",\n",
    "          \"KU564\",\n",
    "          \"KU837\",\n",
    "          \"KU853\",\n",
    "          \"KU092\"\n",
    "        ]\n",
    "      }\n",
    "    },\n",
    "    {\n",
    "      \"code\": \"Koulutusaste\",\n",
    "      \"selection\": {\n",
    "        \"filter\": \"item\",\n",
    "        \"values\": [\n",
    "          \"SSS\",\n",
    "          \"7\",\n",
    "          \"8\"\n",
    "        ]\n",
    "      }\n",
    "    }\n",
    "  ],\n",
    "  \"response\": {\n",
    "    \"format\": \"json-stat\"\n",
    "  }\n",
    "}\n",
    "\"\"\"\n",
    "\n",
    "simplify(query)"
   ]
  },
  {
   "cell_type": "code",
   "execution_count": null,
   "metadata": {},
   "outputs": [],
   "source": []
  }
 ],
 "metadata": {
  "kernelspec": {
   "display_name": "Python 3",
   "language": "python",
   "name": "python3"
  },
  "language_info": {
   "codemirror_mode": {
    "name": "ipython",
    "version": 3
   },
   "file_extension": ".py",
   "mimetype": "text/x-python",
   "name": "python",
   "nbconvert_exporter": "python",
   "pygments_lexer": "ipython3",
   "version": "3.7.7"
  }
 },
 "nbformat": 4,
 "nbformat_minor": 4
}
